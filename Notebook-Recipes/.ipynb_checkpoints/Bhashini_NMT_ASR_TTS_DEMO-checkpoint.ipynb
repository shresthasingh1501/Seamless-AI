{
 "cells": [
  {
   "cell_type": "markdown",
   "id": "ri3YPNY-KwuO",
   "metadata": {
    "id": "ri3YPNY-KwuO"
   },
   "source": [
    "# Bhashini Notebook\n",
    "\n",
    "This notebook demonstrates the usage of the Bhashini API for Natural Language Processing tasks including Automatic Speech Recognition (ASR), Neural Machine Translation (NMT), and Text-to-Speech (TTS). Bhashini is an AI-powered platform developed by AI4Bharat, designed to support various Indian languages for NLP tasks. This notebook contains Python function definitions that utilize the Bhashini API to perform ASR, NMT, and TTS tasks. By leveraging Bhashini's capabilities, users can transcribe speech to text, translate text between languages, and synthesize text into speech, all while supporting multiple Indian languages.\n"
   ]
  },
  {
   "cell_type": "markdown",
   "id": "a58c2081-16ea-4cb2-b3a2-b2bbb7f2c714",
   "metadata": {
    "id": "a58c2081-16ea-4cb2-b3a2-b2bbb7f2c714"
   },
   "source": [
    "# Setting up the Environment"
   ]
  },
  {
   "cell_type": "code",
   "execution_count": null,
   "id": "1a160d5a-8624-4a1c-b72f-e5eec78a8a5c",
   "metadata": {
    "colab": {
     "base_uri": "https://localhost:8080/"
    },
    "id": "1a160d5a-8624-4a1c-b72f-e5eec78a8a5c",
    "outputId": "9e8da04b-2e5f-46c6-cf24-de87028988de"
   },
   "outputs": [],
   "source": [
    "!pip install requests pydub pyaudio wave"
   ]
  },
  {
   "cell_type": "markdown",
   "id": "abf1bef5-968b-4ad2-83d6-14d017b1fbea",
   "metadata": {
    "id": "abf1bef5-968b-4ad2-83d6-14d017b1fbea"
   },
   "source": [
    "Importing Libraries: Import all the necessary libraries.\n",
    "# New Section"
   ]
  },
  {
   "cell_type": "code",
   "execution_count": null,
   "id": "9d161632-c848-419b-a06c-e21a3541d6f7",
   "metadata": {
    "id": "9d161632-c848-419b-a06c-e21a3541d6f7"
   },
   "outputs": [],
   "source": [
    "import json\n",
    "import requests\n",
    "import base64\n",
    "import pyaudio\n",
    "import wave\n",
    "import os\n",
    "from pydub import AudioSegment\n",
    "from pydub.playback import play\n",
    "import IPython.display as ipd"
   ]
  },
  {
   "cell_type": "markdown",
   "id": "df600b64-ac82-4153-9832-542963d5b6ab",
   "metadata": {
    "id": "df600b64-ac82-4153-9832-542963d5b6ab"
   },
   "source": [
    "#Define functions for NMT, TTS, and ASR"
   ]
  },
  {
   "cell_type": "markdown",
   "id": "8d3ada77-3f14-42ab-b51c-f4fa55e6b799",
   "metadata": {
    "id": "8d3ada77-3f14-42ab-b51c-f4fa55e6b799"
   },
   "source": [
    "ASR (Automatic Speech Recognition)"
   ]
  },
  {
   "cell_type": "code",
   "execution_count": null,
   "id": "afa503e4-5422-4a5d-a2ea-98f1792224fc",
   "metadata": {
    "id": "afa503e4-5422-4a5d-a2ea-98f1792224fc"
   },
   "outputs": [],
   "source": [
    "def bhashini_asr(base64_input, input_language):\n",
    "    url = \"https://dhruva-api.bhashini.gov.in/services/inference/pipeline\"\n",
    "    asr_serviceid_dict = {'bn': 'ai4bharat/conformer-multilingual-indo_aryan-gpu--t4', 'en': 'ai4bharat/whisper-medium-en--gpu--t4', 'gu': 'ai4bharat/conformer-multilingual-indo_aryan-gpu--t4', 'hi': 'ai4bharat/conformer-hi-gpu--t4', 'kn': 'ai4bharat/conformer-multilingual-dravidian-gpu--t4', 'ml': 'ai4bharat/conformer-multilingual-dravidian-gpu--t4', 'mr': 'ai4bharat/conformer-multilingual-indo_aryan-gpu--t4', 'or': 'ai4bharat/conformer-multilingual-indo_aryan-gpu--t4', 'pa': 'ai4bharat/conformer-multilingual-indo_aryan-gpu--t4', 'sa': 'ai4bharat/conformer-multilingual-indo_aryan-gpu--t4', 'ta': 'ai4bharat/conformer-multilingual-dravidian-gpu--t4', 'te': 'ai4bharat/conformer-multilingual-dravidian-gpu--t4', 'ur': 'ai4bharat/conformer-multilingual-indo_aryan-gpu--t4'}\n",
    "\n",
    "    asr_serviceid_val = asr_serviceid_dict[input_language]\n",
    "\n",
    "    payload = json.dumps({\n",
    "    \"pipelineTasks\": [\n",
    "        {\n",
    "        \"taskType\": \"asr\",\n",
    "        \"config\": {\n",
    "            \"language\": {\n",
    "            \"sourceLanguage\": input_language\n",
    "            },\n",
    "            \"serviceId\": asr_serviceid_val,\n",
    "            \"audioFormat\": \"wav\",\n",
    "            \"samplingRate\": 16000\n",
    "        }\n",
    "        }\n",
    "    ],\n",
    "    \"inputData\": {\n",
    "        \"audio\": [\n",
    "        {\n",
    "            \"audioContent\": base64_input\n",
    "        }\n",
    "        ]\n",
    "    }\n",
    "    })\n",
    "    headers = {\n",
    "    'Accept': '*/*',\n",
    "    'User-Agent': 'Thunder Client (https://www.thunderclient.com)',\n",
    "    'Authorization': bhashini_api_key,\n",
    "    'Content-Type': 'application/json',\n",
    "    \"Connection\": \"keep-alive\"\n",
    "    }\n",
    "\n",
    "    response = requests.request(\"POST\", url, headers=headers, data=payload)\n",
    "    json_data = json.loads(response.text)\n",
    "    output = json_data[\"pipelineResponse\"][0][\"output\"][0][\"source\"]\n",
    "    return(output)"
   ]
  },
  {
   "cell_type": "markdown",
   "id": "a98fe10b-d165-4471-88cf-ddd751afa8f2",
   "metadata": {
    "id": "a98fe10b-d165-4471-88cf-ddd751afa8f2"
   },
   "source": [
    "NMT (Text Translation)"
   ]
  },
  {
   "cell_type": "code",
   "execution_count": null,
   "id": "64c1c550-eb8f-4693-85d2-bcda76d9ba17",
   "metadata": {
    "id": "64c1c550-eb8f-4693-85d2-bcda76d9ba17"
   },
   "outputs": [],
   "source": [
    "def bhashini_translate(my_input, input_language, output_language='en'):\n",
    "    url = \"https://dhruva-api.bhashini.gov.in/services/inference/pipeline\"\n",
    "    nmt_serviceid_dict = {'bn,en': 'ai4bharat/indictrans-v2-all-gpu--t4', 'bn,as': 'ai4bharat/indictrans-v2-all-gpu--t4', 'bn,brx': 'ai4bharat/indictrans-v2-all-gpu--t4', 'bn,gu': 'ai4bharat/indictrans-v2-all-gpu--t4', 'bn,hi': 'ai4bharat/indictrans-v2-all-gpu--t4', 'bn,kn': 'ai4bharat/indictrans-v2-all-gpu--t4', 'bn,ml': 'ai4bharat/indictrans-v2-all-gpu--t4', 'bn,mni': 'ai4bharat/indictrans-v2-all-gpu--t4', 'bn,mr': 'ai4bharat/indictrans-v2-all-gpu--t4', 'bn,or': 'ai4bharat/indictrans-v2-all-gpu--t4', 'bn,pa': 'ai4bharat/indictrans-v2-all-gpu--t4', 'bn,ta': 'ai4bharat/indictrans-v2-all-gpu--t4', 'bn,te': 'ai4bharat/indictrans-v2-all-gpu--t4', 'en,as': 'ai4bharat/indictrans-v2-all-gpu--t4', 'en,bn': 'ai4bharat/indictrans-v2-all-gpu--t4', 'en,brx': 'ai4bharat/indictrans-v2-all-gpu--t4', 'en,gu': 'ai4bharat/indictrans-v2-all-gpu--t4', 'en,hi': 'ai4bharat/indictrans-v2-all-gpu--t4', 'en,kn': 'ai4bharat/indictrans-v2-all-gpu--t4', 'en,ml': 'ai4bharat/indictrans-v2-all-gpu--t4', 'en,mni': 'ai4bharat/indictrans-v2-all-gpu--t4', 'en,mr': 'ai4bharat/indictrans-v2-all-gpu--t4', 'en,or': 'ai4bharat/indictrans-v2-all-gpu--t4', 'en,pa': 'ai4bharat/indictrans-v2-all-gpu--t4', 'en,ta': 'ai4bharat/indictrans-v2-all-gpu--t4', 'en,te': 'ai4bharat/indictrans-v2-all-gpu--t4', 'gu,en': 'ai4bharat/indictrans-v2-all-gpu--t4', 'gu,as': 'ai4bharat/indictrans-v2-all-gpu--t4', 'gu,bn': 'ai4bharat/indictrans-v2-all-gpu--t4', 'gu,brx': 'ai4bharat/indictrans-v2-all-gpu--t4', 'gu,hi': 'ai4bharat/indictrans-v2-all-gpu--t4', 'gu,kn': 'ai4bharat/indictrans-v2-all-gpu--t4', 'gu,ml': 'ai4bharat/indictrans-v2-all-gpu--t4', 'gu,mni': 'ai4bharat/indictrans-v2-all-gpu--t4', 'gu,mr': 'ai4bharat/indictrans-v2-all-gpu--t4', 'gu,or': 'ai4bharat/indictrans-v2-all-gpu--t4', 'gu,pa': 'ai4bharat/indictrans-v2-all-gpu--t4', 'gu,ta': 'ai4bharat/indictrans-v2-all-gpu--t4', 'gu,te': 'ai4bharat/indictrans-v2-all-gpu--t4', 'hi,en': 'ai4bharat/indictrans-v2-all-gpu--t4', 'hi,as': 'ai4bharat/indictrans-v2-all-gpu--t4', 'hi,bn': 'ai4bharat/indictrans-v2-all-gpu--t4', 'hi,brx': 'ai4bharat/indictrans-v2-all-gpu--t4', 'hi,gu': 'ai4bharat/indictrans-v2-all-gpu--t4', 'hi,kn': 'ai4bharat/indictrans-v2-all-gpu--t4', 'hi,ml': 'ai4bharat/indictrans-v2-all-gpu--t4', 'hi,mni': 'ai4bharat/indictrans-v2-all-gpu--t4', 'hi,mr': 'ai4bharat/indictrans-v2-all-gpu--t4', 'hi,or': 'ai4bharat/indictrans-v2-all-gpu--t4', 'hi,pa': 'ai4bharat/indictrans-v2-all-gpu--t4', 'hi,ta': 'ai4bharat/indictrans-v2-all-gpu--t4', 'hi,te': 'ai4bharat/indictrans-v2-all-gpu--t4', 'kn,en': 'ai4bharat/indictrans-v2-all-gpu--t4', 'kn,as': 'ai4bharat/indictrans-v2-all-gpu--t4', 'kn,bn': 'ai4bharat/indictrans-v2-all-gpu--t4', 'kn,brx': 'ai4bharat/indictrans-v2-all-gpu--t4', 'kn,gu': 'ai4bharat/indictrans-v2-all-gpu--t4', 'kn,hi': 'ai4bharat/indictrans-v2-all-gpu--t4', 'kn,ml': 'ai4bharat/indictrans-v2-all-gpu--t4', 'kn,mni': 'ai4bharat/indictrans-v2-all-gpu--t4', 'kn,mr': 'ai4bharat/indictrans-v2-all-gpu--t4', 'kn,or': 'ai4bharat/indictrans-v2-all-gpu--t4', 'kn,pa': 'ai4bharat/indictrans-v2-all-gpu--t4', 'kn,ta': 'ai4bharat/indictrans-v2-all-gpu--t4', 'kn,te': 'ai4bharat/indictrans-v2-all-gpu--t4', 'ml,en': 'ai4bharat/indictrans-v2-all-gpu--t4', 'ml,as': 'ai4bharat/indictrans-v2-all-gpu--t4', 'ml,bn': 'ai4bharat/indictrans-v2-all-gpu--t4', 'ml,brx': 'ai4bharat/indictrans-v2-all-gpu--t4', 'ml,gu': 'ai4bharat/indictrans-v2-all-gpu--t4', 'ml,hi': 'ai4bharat/indictrans-v2-all-gpu--t4', 'ml,kn': 'ai4bharat/indictrans-v2-all-gpu--t4', 'ml,mni': 'ai4bharat/indictrans-v2-all-gpu--t4', 'ml,mr': 'ai4bharat/indictrans-v2-all-gpu--t4', 'ml,or': 'ai4bharat/indictrans-v2-all-gpu--t4', 'ml,pa': 'ai4bharat/indictrans-v2-all-gpu--t4', 'ml,ta': 'ai4bharat/indictrans-v2-all-gpu--t4', 'ml,te': 'ai4bharat/indictrans-v2-all-gpu--t4', 'mr,en': 'ai4bharat/indictrans-v2-all-gpu--t4', 'mr,as': 'ai4bharat/indictrans-v2-all-gpu--t4', 'mr,bn': 'ai4bharat/indictrans-v2-all-gpu--t4', 'mr,brx': 'ai4bharat/indictrans-v2-all-gpu--t4', 'mr,gu': 'ai4bharat/indictrans-v2-all-gpu--t4', 'mr,hi': 'ai4bharat/indictrans-v2-all-gpu--t4', 'mr,kn': 'ai4bharat/indictrans-v2-all-gpu--t4', 'mr,ml': 'ai4bharat/indictrans-v2-all-gpu--t4', 'mr,mni': 'ai4bharat/indictrans-v2-all-gpu--t4', 'mr,or': 'ai4bharat/indictrans-v2-all-gpu--t4', 'mr,pa': 'ai4bharat/indictrans-v2-all-gpu--t4', 'mr,ta': 'ai4bharat/indictrans-v2-all-gpu--t4', 'mr,te': 'ai4bharat/indictrans-v2-all-gpu--t4', 'or,en': 'ai4bharat/indictrans-v2-all-gpu--t4', 'or,as': 'ai4bharat/indictrans-v2-all-gpu--t4', 'or,bn': 'ai4bharat/indictrans-v2-all-gpu--t4', 'or,brx': 'ai4bharat/indictrans-v2-all-gpu--t4', 'or,gu': 'ai4bharat/indictrans-v2-all-gpu--t4', 'or,hi': 'ai4bharat/indictrans-v2-all-gpu--t4', 'or,kn': 'ai4bharat/indictrans-v2-all-gpu--t4', 'or,ml': 'ai4bharat/indictrans-v2-all-gpu--t4', 'or,mni': 'ai4bharat/indictrans-v2-all-gpu--t4', 'or,mr': 'ai4bharat/indictrans-v2-all-gpu--t4', 'or,pa': 'ai4bharat/indictrans-v2-all-gpu--t4', 'or,ta': 'ai4bharat/indictrans-v2-all-gpu--t4', 'or,te': 'ai4bharat/indictrans-v2-all-gpu--t4', 'pa,en': 'ai4bharat/indictrans-v2-all-gpu--t4', 'pa,as': 'ai4bharat/indictrans-v2-all-gpu--t4', 'pa,bn': 'ai4bharat/indictrans-v2-all-gpu--t4', 'pa,brx': 'ai4bharat/indictrans-v2-all-gpu--t4', 'pa,gu': 'ai4bharat/indictrans-v2-all-gpu--t4', 'pa,hi': 'ai4bharat/indictrans-v2-all-gpu--t4', 'pa,kn': 'ai4bharat/indictrans-v2-all-gpu--t4', 'pa,ml': 'ai4bharat/indictrans-v2-all-gpu--t4', 'pa,mni': 'ai4bharat/indictrans-v2-all-gpu--t4', 'pa,mr': 'ai4bharat/indictrans-v2-all-gpu--t4', 'pa,or': 'ai4bharat/indictrans-v2-all-gpu--t4', 'pa,ta': 'ai4bharat/indictrans-v2-all-gpu--t4', 'pa,te': 'ai4bharat/indictrans-v2-all-gpu--t4', 'sa,en': 'ai4bharat/indictrans-v2-all-gpu--t4', 'sa,as': 'ai4bharat/indictrans-v2-all-gpu--t4', 'sa,bn': 'ai4bharat/indictrans-v2-all-gpu--t4', 'sa,brx': 'ai4bharat/indictrans-v2-all-gpu--t4', 'sa,gu': 'ai4bharat/indictrans-v2-all-gpu--t4', 'sa,hi': 'ai4bharat/indictrans-v2-all-gpu--t4', 'sa,kn': 'ai4bharat/indictrans-v2-all-gpu--t4', 'sa,ml': 'ai4bharat/indictrans-v2-all-gpu--t4', 'sa,mni': 'ai4bharat/indictrans-v2-all-gpu--t4', 'sa,mr': 'ai4bharat/indictrans-v2-all-gpu--t4', 'sa,or': 'ai4bharat/indictrans-v2-all-gpu--t4', 'sa,pa': 'ai4bharat/indictrans-v2-all-gpu--t4', 'sa,ta': 'ai4bharat/indictrans-v2-all-gpu--t4', 'sa,te': 'ai4bharat/indictrans-v2-all-gpu--t4', 'ta,en': 'ai4bharat/indictrans-v2-all-gpu--t4', 'ta,as': 'ai4bharat/indictrans-v2-all-gpu--t4', 'ta,bn': 'ai4bharat/indictrans-v2-all-gpu--t4', 'ta,brx': 'ai4bharat/indictrans-v2-all-gpu--t4', 'ta,gu': 'ai4bharat/indictrans-v2-all-gpu--t4', 'ta,hi': 'ai4bharat/indictrans-v2-all-gpu--t4', 'ta,kn': 'ai4bharat/indictrans-v2-all-gpu--t4', 'ta,ml': 'ai4bharat/indictrans-v2-all-gpu--t4', 'ta,mni': 'ai4bharat/indictrans-v2-all-gpu--t4', 'ta,mr': 'ai4bharat/indictrans-v2-all-gpu--t4', 'ta,or': 'ai4bharat/indictrans-v2-all-gpu--t4', 'ta,pa': 'ai4bharat/indictrans-v2-all-gpu--t4', 'ta,te': 'ai4bharat/indictrans-v2-all-gpu--t4', 'te,en': 'ai4bharat/indictrans-v2-all-gpu--t4', 'te,as': 'ai4bharat/indictrans-v2-all-gpu--t4', 'te,bn': 'ai4bharat/indictrans-v2-all-gpu--t4', 'te,brx': 'ai4bharat/indictrans-v2-all-gpu--t4', 'te,gu': 'ai4bharat/indictrans-v2-all-gpu--t4', 'te,hi': 'ai4bharat/indictrans-v2-all-gpu--t4', 'te,kn': 'ai4bharat/indictrans-v2-all-gpu--t4', 'te,ml': 'ai4bharat/indictrans-v2-all-gpu--t4', 'te,mni': 'ai4bharat/indictrans-v2-all-gpu--t4', 'te,mr': 'ai4bharat/indictrans-v2-all-gpu--t4', 'te,or': 'ai4bharat/indictrans-v2-all-gpu--t4', 'te,pa': 'ai4bharat/indictrans-v2-all-gpu--t4', 'te,ta': 'ai4bharat/indictrans-v2-all-gpu--t4', 'ur,en': 'ai4bharat/indictrans-v2-all-gpu--t4', 'ur,as': 'ai4bharat/indictrans-v2-all-gpu--t4', 'ur,bn': 'ai4bharat/indictrans-v2-all-gpu--t4', 'ur,brx': 'ai4bharat/indictrans-v2-all-gpu--t4', 'ur,gu': 'ai4bharat/indictrans-v2-all-gpu--t4', 'ur,hi': 'ai4bharat/indictrans-v2-all-gpu--t4', 'ur,kn': 'ai4bharat/indictrans-v2-all-gpu--t4', 'ur,ml': 'ai4bharat/indictrans-v2-all-gpu--t4', 'ur,mni': 'ai4bharat/indictrans-v2-all-gpu--t4', 'ur,mr': 'ai4bharat/indictrans-v2-all-gpu--t4', 'ur,or': 'ai4bharat/indictrans-v2-all-gpu--t4', 'ur,pa': 'ai4bharat/indictrans-v2-all-gpu--t4', 'ur,ta': 'ai4bharat/indictrans-v2-all-gpu--t4', 'ur,te': 'ai4bharat/indictrans-v2-all-gpu--t4'}\n",
    "    comb = str(input_language) + \",\" + str(output_language)\n",
    "    nmt_serviceid_val = nmt_serviceid_dict[comb]\n",
    "\n",
    "    payload = json.dumps({\n",
    "      \"pipelineTasks\": [\n",
    "        {\n",
    "          \"taskType\": \"translation\",\n",
    "          \"config\": {\n",
    "            \"language\": {\n",
    "              \"sourceLanguage\": input_language,\n",
    "              \"targetLanguage\": output_language\n",
    "            },\n",
    "            \"serviceId\": nmt_serviceid_val\n",
    "          }\n",
    "        }\n",
    "      ],\n",
    "      \"inputData\": {\n",
    "        \"input\": [\n",
    "          {\n",
    "            \"source\": my_input\n",
    "          }\n",
    "        ]\n",
    "      }\n",
    "    })\n",
    "    headers = {\n",
    "      'Accept': '*/*',\n",
    "      'User-Agent': 'Thunder Client (https://www.thunderclient.com)',\n",
    "      'Authorization': bhashini_api_key,\n",
    "      'Content-Type': 'application/json'\n",
    "    }\n",
    "\n",
    "    response = requests.request(\"POST\", url, headers=headers, data=payload)\n",
    "    json_data = json.loads(response.text)\n",
    "    output = json_data[\"pipelineResponse\"][0][\"output\"][0][\"target\"]\n",
    "    return output"
   ]
  },
  {
   "cell_type": "markdown",
   "id": "79737be3-69f9-4ca1-940c-8954a9d2dbbe",
   "metadata": {
    "id": "79737be3-69f9-4ca1-940c-8954a9d2dbbe"
   },
   "source": [
    "TTS (Text To Speech)"
   ]
  },
  {
   "cell_type": "code",
   "execution_count": null,
   "id": "7c4d1a72-3e7a-41f9-9494-ddbb321ebea8",
   "metadata": {
    "id": "7c4d1a72-3e7a-41f9-9494-ddbb321ebea8"
   },
   "outputs": [],
   "source": [
    "def bhashini_tts(my_input, input_language):\n",
    "    url = \"https://dhruva-api.bhashini.gov.in/services/inference/pipeline\"\n",
    "    tts_serviceid_dict = {'en': 'ai4bharat/indic-tts-coqui-misc-gpu--t4', 'as': 'ai4bharat/indic-tts-coqui-indo_aryan-gpu--t4', 'brx': 'ai4bharat/indic-tts-coqui-misc-gpu--t4', 'gu': 'ai4bharat/indic-tts-coqui-indo_aryan-gpu--t4', 'hi': 'ai4bharat/indic-tts-coqui-indo_aryan-gpu--t4', 'kn': 'ai4bharat/indic-tts-coqui-dravidian-gpu--t4', 'ml': 'ai4bharat/indic-tts-coqui-dravidian-gpu--t4', 'mni': 'ai4bharat/indic-tts-coqui-misc-gpu--t4', 'mr': 'ai4bharat/indic-tts-coqui-indo_aryan-gpu--t4', 'or': 'ai4bharat/indic-tts-coqui-indo_aryan-gpu--t4', 'pa': 'ai4bharat/indic-tts-coqui-indo_aryan-gpu--t4', 'ta': 'ai4bharat/indic-tts-coqui-dravidian-gpu--t4', 'te': 'ai4bharat/indic-tts-coqui-dravidian-gpu--t4', 'bn': 'ai4bharat/indic-tts-coqui-indo_aryan-gpu--t4'}\n",
    "    tts_serviceid_val = tts_serviceid_dict[input_language]\n",
    "\n",
    "    payload = json.dumps({\n",
    "    \"pipelineTasks\": [\n",
    "        {\n",
    "        \"taskType\": \"tts\",\n",
    "        \"config\": {\n",
    "            \"language\": {\n",
    "            \"sourceLanguage\": input_language\n",
    "            },\n",
    "            \"serviceId\": tts_serviceid_val,\n",
    "            \"gender\": \"female\"\n",
    "        }\n",
    "        }\n",
    "    ],\n",
    "    \"inputData\": {\n",
    "        \"input\": [\n",
    "        {\n",
    "            \"source\": my_input\n",
    "        }\n",
    "        ]\n",
    "    }\n",
    "    })\n",
    "    headers = {\n",
    "    'Accept': '*/*',\n",
    "    'User-Agent': 'Thunder Client (https://www.thunderclient.com)',\n",
    "    'Authorization': bhashini_api_key,\n",
    "    'Content-Type': 'application/json'\n",
    "    }\n",
    "\n",
    "    response = requests.request(\"POST\", url, headers=headers, data=payload)\n",
    "    json_data = json.loads(response.text)\n",
    "    output = json_data[\"pipelineResponse\"][0][\"audio\"][0][\"audioContent\"]\n",
    "    # # Play the audio segment\n",
    "    return output"
   ]
  },
  {
   "cell_type": "markdown",
   "id": "df0d817e-c17a-4c06-ad6a-87dcf2feef51",
   "metadata": {
    "id": "df0d817e-c17a-4c06-ad6a-87dcf2feef51"
   },
   "source": [
    "# DEMO SECTION (Follow ISO CODE 639 to declare languages)"
   ]
  },
  {
   "cell_type": "markdown",
   "id": "1oQyz598Jnr6",
   "metadata": {
    "id": "1oQyz598Jnr6"
   },
   "source": [
    "**Declare Bhashini API Key**\n",
    "\n",
    "Get one from here https://bhashini.gov.in/ulca/user/register"
   ]
  },
  {
   "cell_type": "code",
   "execution_count": null,
   "id": "awj5M58JJkbb",
   "metadata": {
    "id": "awj5M58JJkbb"
   },
   "outputs": [],
   "source": [
    "bhashini_api_key = '-ZMTsWoHLAsGSKpgnvuwPF3LJUK71XPdYxnMPW6dC55JfDa_Sgy4vYi6JHi7ZnE0'"
   ]
  },
  {
   "cell_type": "markdown",
   "id": "95105554-d0f4-46ef-9432-b6d8007116cd",
   "metadata": {
    "id": "95105554-d0f4-46ef-9432-b6d8007116cd"
   },
   "source": [
    "Neural Machine Translation"
   ]
  },
  {
   "cell_type": "code",
   "execution_count": null,
   "id": "79a96400-ea18-4fcd-858a-60d377e7a1a9",
   "metadata": {
    "id": "79a96400-ea18-4fcd-858a-60d377e7a1a9"
   },
   "outputs": [],
   "source": [
    "def demonstrate_nmt():\n",
    "    # Take input text from user\n",
    "    input_text = input(\"Enter text to translate: \")\n",
    "    # Input language\n",
    "    input_language = input(\"Enter input language code (e.g., en, hi, bn): \")\n",
    "    output_language = input(\"Enter output language code (e.g., en, hi, bn): \")\n",
    "    # Translate text\n",
    "    translated_text = bhashini_translate(input_text, input_language,output_language)\n",
    "    print(\"Translated Text:\", translated_text)\n",
    "print(\"Neural Machine Translation Demo:\")\n",
    "demonstrate_nmt()"
   ]
  },
  {
   "cell_type": "markdown",
   "id": "53048d94-f04f-4772-91cf-ac9f4dd1ed2a",
   "metadata": {
    "id": "53048d94-f04f-4772-91cf-ac9f4dd1ed2a"
   },
   "source": [
    "Text To Speech"
   ]
  },
  {
   "cell_type": "code",
   "execution_count": null,
   "id": "e2509670-1fad-416c-a308-b450e3b1565d",
   "metadata": {
    "id": "e2509670-1fad-416c-a308-b450e3b1565d"
   },
   "outputs": [],
   "source": [
    "def demonstrate_tts():\n",
    "    # Take input text from user\n",
    "    input_text = input(\"Enter text to convert to speech: \")\n",
    "    # Input language\n",
    "    input_language = input(\"Enter input language code (e.g., en, hi, bn): \")\n",
    "    # Generate Base64 encoded speech\n",
    "    audio_content = bhashini_tts(input_text, input_language)\n",
    "    \n",
    "    # Convert Base64 to WAV\n",
    "    audio_data = base64.b64decode(audio_content)\n",
    "    with open(\"output_audio.wav\", \"wb\") as f:\n",
    "        f.write(audio_data)\n",
    "    \n",
    "    # Display the audio\n",
    "    ipd.display(ipd.Audio(\"output_audio.wav\"))\n",
    "print(\"\\nText-to-Speech Demo:\")\n",
    "demonstrate_tts()"
   ]
  },
  {
   "cell_type": "markdown",
   "id": "c46ecb61-ea5d-4ff1-a8fc-4438dc8904b6",
   "metadata": {
    "id": "c46ecb61-ea5d-4ff1-a8fc-4438dc8904b6"
   },
   "source": [
    "Automatic Speech Recognition"
   ]
  },
  {
   "cell_type": "code",
   "execution_count": null,
   "id": "5af705b5-89fa-4ffa-8d43-f2c4e330b558",
   "metadata": {
    "id": "5af705b5-89fa-4ffa-8d43-f2c4e330b558"
   },
   "outputs": [],
   "source": [
    "def demonstrate_asr():\n",
    "    # Example input audio file (provide path)\n",
    "    audio_file_path = input(\"Enter path to the audio file: \")\n",
    "    # Read audio file\n",
    "    with open(audio_file_path, \"rb\") as f:\n",
    "        audio_content = base64.b64encode(f.read()).decode(\"utf-8\")\n",
    "    # Input language\n",
    "    input_language = input(\"Enter input language code (e.g., en, hi, bn): \")\n",
    "    # Perform ASR\n",
    "    recognized_text = bhashini_asr(audio_content, input_language)\n",
    "    print(\"Recognized Text:\", recognized_text)\n",
    "print(\"\\nAutomatic Speech Recognition Demo:\")\n",
    "demonstrate_asr()"
   ]
  },
  {
   "cell_type": "code",
   "execution_count": null,
   "id": "0fd53b5a-3f30-4c74-bd50-cdd856cd12e6",
   "metadata": {},
   "outputs": [],
   "source": []
  }
 ],
 "metadata": {
  "colab": {
   "provenance": []
  },
  "kernelspec": {
   "display_name": "Python 3 (ipykernel)",
   "language": "python",
   "name": "python3"
  },
  "language_info": {
   "codemirror_mode": {
    "name": "ipython",
    "version": 3
   },
   "file_extension": ".py",
   "mimetype": "text/x-python",
   "name": "python",
   "nbconvert_exporter": "python",
   "pygments_lexer": "ipython3",
   "version": "3.10.12"
  }
 },
 "nbformat": 4,
 "nbformat_minor": 5
}
